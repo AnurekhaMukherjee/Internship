{
 "cells": [
  {
   "cell_type": "markdown",
   "id": "6a6488de",
   "metadata": {},
   "source": [
    "Question 1- Write a Python program to check that a string contains only a certain set of characters (in this case a-z, A-Z and 0-9)."
   ]
  },
  {
   "cell_type": "code",
   "execution_count": 2,
   "id": "c322bb8c",
   "metadata": {},
   "outputs": [
    {
     "name": "stdout",
     "output_type": "stream",
     "text": [
      "True\n",
      "False\n"
     ]
    }
   ],
   "source": [
    "import re\n",
    "def is_allowed_specific_char(string):\n",
    "    charRe = re.compile(r'[^a-zA-Z0-9]')\n",
    "    string = charRe.search(string)\n",
    "    return not bool(string)\n",
    "\n",
    "print(is_allowed_specific_char(\"ABCDEFabcdef123450\")) # True\n",
    "print(is_allowed_specific_char(\"*&%@#!}{\")) # False\n"
   ]
  },
  {
   "cell_type": "markdown",
   "id": "8616692e",
   "metadata": {},
   "source": [
    "Question 2- Create a function in python that matches a string that has an a followed by zero or more b's"
   ]
  },
  {
   "cell_type": "code",
   "execution_count": 3,
   "id": "b90a1294",
   "metadata": {},
   "outputs": [
    {
     "name": "stdout",
     "output_type": "stream",
     "text": [
      "Not matched!\n",
      "Not matched!\n",
      "Found a match!\n",
      "Found a match!\n",
      "Found a match!\n"
     ]
    }
   ],
   "source": [
    "import re\n",
    "\n",
    "def text_match(text):\n",
    "    patterns = '^a(b*)$'\n",
    "    if re.search(patterns, text):\n",
    "        return 'Found a match!'\n",
    "    else:\n",
    "        return('Not matched!')\n",
    "\n",
    "print(text_match(\"ac\"))\n",
    "print(text_match(\"abc\"))\n",
    "print(text_match(\"a\"))\n",
    "print(text_match(\"ab\"))\n",
    "print(text_match(\"abb\"))\n"
   ]
  },
  {
   "cell_type": "markdown",
   "id": "15426adc",
   "metadata": {},
   "source": [
    "Question 3-  Create a function in python that matches a string that has an a followed by one or more b's"
   ]
  },
  {
   "cell_type": "code",
   "execution_count": 4,
   "id": "fb258e35",
   "metadata": {},
   "outputs": [
    {
     "name": "stdout",
     "output_type": "stream",
     "text": [
      "Found a match!\n",
      "Found a match!\n"
     ]
    }
   ],
   "source": [
    "import re\n",
    "\n",
    "def text_match(text):\n",
    "    patterns = 'ab+?'\n",
    "    if re.search(patterns, text):\n",
    "        return 'Found a match!'\n",
    "    else:\n",
    "        return('Not matched!')\n",
    "\n",
    "print(text_match(\"ab\"))\n",
    "print(text_match(\"abc\"))\n"
   ]
  },
  {
   "cell_type": "markdown",
   "id": "d1d230d8",
   "metadata": {},
   "source": [
    "Question 4- Create a function in Python and use RegEx that matches a string that has an a followed by zero or one 'b'."
   ]
  },
  {
   "cell_type": "code",
   "execution_count": 5,
   "id": "e7afd458",
   "metadata": {},
   "outputs": [
    {
     "name": "stdout",
     "output_type": "stream",
     "text": [
      "Found a match!\n",
      "Found a match!\n"
     ]
    }
   ],
   "source": [
    "import re\n",
    "\n",
    "def text_match(text):\n",
    "    patterns = 'ab?'\n",
    "    if re.search(patterns, text):\n",
    "        return 'Found a match!'\n",
    "    else:\n",
    "        return('Not matched!')\n",
    "\n",
    "print(text_match(\"ab\"))\n",
    "print(text_match(\"abc\"))\n"
   ]
  },
  {
   "cell_type": "markdown",
   "id": "68ccb424",
   "metadata": {},
   "source": [
    "Question 5- Write a Python program that matches a string that has an a followed by three 'b'."
   ]
  },
  {
   "cell_type": "code",
   "execution_count": 6,
   "id": "b6440f9a",
   "metadata": {},
   "outputs": [
    {
     "name": "stdout",
     "output_type": "stream",
     "text": [
      "Found a match!\n",
      "Not matched!\n"
     ]
    }
   ],
   "source": [
    "import re\n",
    "\n",
    "def text_match(text):\n",
    "    patterns = 'ab{3}'\n",
    "    if re.search(patterns, text):\n",
    "        return 'Found a match!'\n",
    "    else:\n",
    "        return('Not matched!')\n",
    "\n",
    "print(text_match(\"abbb\"))\n",
    "print(text_match(\"abc\"))\n"
   ]
  },
  {
   "cell_type": "markdown",
   "id": "a446ab20",
   "metadata": {},
   "source": [
    "Question 6- Write a regular expression in Python to split a string into uppercase letters.\n",
    "Sample text: “ImportanceOfRegularExpressionsInPython”\n",
    "Output: [‘Importance’, ‘Of’, ‘Regular’, ‘Expression’, ‘In’, ‘Python’]\n"
   ]
  },
  {
   "cell_type": "code",
   "execution_count": 7,
   "id": "b84fe0c3",
   "metadata": {},
   "outputs": [
    {
     "name": "stdout",
     "output_type": "stream",
     "text": [
      "['Importance', 'Of', 'Regular', 'Expressions', 'In', 'Python']\n"
     ]
    }
   ],
   "source": [
    "import re\n",
    "\n",
    "text = \"ImportanceOfRegularExpressionsInPython\"\n",
    "result = re.findall('[A-Z][^A-Z]*', text)\n",
    "\n",
    "print(result)\n"
   ]
  },
  {
   "cell_type": "markdown",
   "id": "bb68b753",
   "metadata": {},
   "source": [
    "Question 7- Write a Python program that matches a string that has an a followed by two to three 'b'."
   ]
  },
  {
   "cell_type": "code",
   "execution_count": 8,
   "id": "f9adac79",
   "metadata": {},
   "outputs": [
    {
     "name": "stdout",
     "output_type": "stream",
     "text": [
      "Not matched!\n",
      "Found a match!\n"
     ]
    }
   ],
   "source": [
    "import re\n",
    "\n",
    "def text_match(text):\n",
    "    patterns = 'ab{2,3}'\n",
    "    if re.search(patterns, text):\n",
    "        return 'Found a match!'\n",
    "    else:\n",
    "        return('Not matched!')\n",
    "\n",
    "print(text_match(\"ab\"))\n",
    "print(text_match(\"aabbbbbc\"))\n"
   ]
  },
  {
   "cell_type": "markdown",
   "id": "0c216bd3",
   "metadata": {},
   "source": [
    "Question 8- Write a Python program to find sequences of lowercase letters joined with a underscore."
   ]
  },
  {
   "cell_type": "code",
   "execution_count": 9,
   "id": "f8d3f161",
   "metadata": {},
   "outputs": [
    {
     "name": "stdout",
     "output_type": "stream",
     "text": [
      "['sample_text']\n"
     ]
    }
   ],
   "source": [
    "import re\n",
    "\n",
    "def text_match(text):\n",
    "    patterns = r'\\b[a-z]+_[a-z]+\\b'\n",
    "    return re.findall(patterns, text)\n",
    "\n",
    "print(text_match(\"This is a sample_text string to test for regex matching.\"))\n"
   ]
  },
  {
   "cell_type": "markdown",
   "id": "1f2f5f6e",
   "metadata": {},
   "source": [
    "Question 9- Write a Python program that matches a string that has an 'a' followed by anything, ending in 'b'."
   ]
  },
  {
   "cell_type": "code",
   "execution_count": 12,
   "id": "86a81796",
   "metadata": {},
   "outputs": [
    {
     "name": "stdout",
     "output_type": "stream",
     "text": [
      "Not matched!\n",
      "Not matched!\n",
      "Found a match!\n"
     ]
    }
   ],
   "source": [
    "import re\n",
    "def text_match(text):\n",
    "        patterns = 'a.*?b$'\n",
    "        if re.search(patterns,  text):\n",
    "                return 'Found a match!'\n",
    "        else:\n",
    "                return('Not matched!')\n",
    "\n",
    "print(text_match(\"aabbbbd\"))\n",
    "print(text_match(\"aabAbbbc\"))\n",
    "print(text_match(\"accddbbjjjb\"))\n",
    "\n",
    "\n"
   ]
  },
  {
   "cell_type": "markdown",
   "id": "57176eed",
   "metadata": {},
   "source": [
    "Question 10- Write a Python program that matches a word at the beginning of a string."
   ]
  },
  {
   "cell_type": "code",
   "execution_count": 17,
   "id": "ac955eda",
   "metadata": {},
   "outputs": [
    {
     "name": "stdout",
     "output_type": "stream",
     "text": [
      "Found a match!\n"
     ]
    }
   ],
   "source": [
    "import re\n",
    "\n",
    "def text_match(text):\n",
    "    patterns = '^\\\\w+'\n",
    "    if re.search(patterns, text):\n",
    "        return 'Found a match!'\n",
    "    else:\n",
    "        return('Not matched!')\n",
    "\n",
    "print(text_match(\"The quick brown fox jumps over the lazy dog.\"))\n"
   ]
  },
  {
   "cell_type": "markdown",
   "id": "8b334cc0",
   "metadata": {},
   "source": [
    "Question 11- Write a Python program to match a string that contains only upper and lowercase letters, numbers, and underscores."
   ]
  },
  {
   "cell_type": "code",
   "execution_count": 18,
   "id": "16efcb29",
   "metadata": {},
   "outputs": [
    {
     "name": "stdout",
     "output_type": "stream",
     "text": [
      "No match found!\n",
      "Found a match!\n"
     ]
    }
   ],
   "source": [
    "import re\n",
    "\n",
    "def text_match(text):\n",
    "    patterns = '^[a-zA-Z0-9_]*$'\n",
    "    if re.search(patterns, text):\n",
    "        return 'Found a match!'\n",
    "    else:\n",
    "        return('No match found!')\n",
    "\n",
    "print(text_match(\"The quick brown fox jumps over the lazy dog.\"))\n",
    "print(text_match(\"Python_Exercises_1\"))\n"
   ]
  },
  {
   "cell_type": "markdown",
   "id": "d764bcb7",
   "metadata": {},
   "source": [
    "Question 12- Write a Python program where a string will start with a specific number. "
   ]
  },
  {
   "cell_type": "code",
   "execution_count": 19,
   "id": "27c70542",
   "metadata": {},
   "outputs": [
    {
     "name": "stdout",
     "output_type": "stream",
     "text": [
      "String starts with 1\n"
     ]
    }
   ],
   "source": [
    "string = \"123abc\"\n",
    "if string.startswith(\"1\"):\n",
    "    print(\"String starts with 1\")\n",
    "else:\n",
    "    print(\"String does not start with 1\")\n"
   ]
  },
  {
   "cell_type": "markdown",
   "id": "88ede138",
   "metadata": {},
   "source": [
    "Question 13- Write a Python program to remove leading zeros from an IP address"
   ]
  },
  {
   "cell_type": "code",
   "execution_count": 20,
   "id": "e4bd67f5",
   "metadata": {},
   "outputs": [
    {
     "name": "stdout",
     "output_type": "stream",
     "text": [
      "255.24.1.1\n",
      "127.0.0.1\n"
     ]
    }
   ],
   "source": [
    "def remove_zeros_from_ip(ip_add):\n",
    "    new_ip_add = \".\".join([str(int(i)) for i in ip_add.split(\".\")])\n",
    "    return new_ip_add\n",
    "\n",
    "print(remove_zeros_from_ip(\"255.024.01.01\"))\n",
    "print(remove_zeros_from_ip(\"127.0.0.01\"))\n"
   ]
  },
  {
   "cell_type": "markdown",
   "id": "12eefc0a",
   "metadata": {},
   "source": [
    "Question 14- Write a regular expression in python to match a date string in the form of Month name followed by day number and year stored in a text file.\n",
    "Sample text : ' On August 15th 1947 that India was declared independent from British colonialism, and the reins of control were handed over to the leaders of the Country’.\n",
    "Output- August 15th 1947\n",
    "Hint- Use re.match() method here\n"
   ]
  },
  {
   "cell_type": "code",
   "execution_count": 27,
   "id": "582e1681",
   "metadata": {},
   "outputs": [
    {
     "name": "stdout",
     "output_type": "stream",
     "text": [
      "August 15th 1947\n"
     ]
    }
   ],
   "source": [
    "import re\n",
    "\n",
    "text = \"On August 15th 1947 that India was declared independent from British colonialism, and the reins of control were handed over to the leaders of the Country\"\n",
    "date_regex = r\"([a-zA-Z]+) (\\d{1,2})(st|nd|rd|th)? (\\d{4})\"\n",
    "match = re.search(date_regex, text)\n",
    "if match:\n",
    "    print(match.group())\n",
    "\n"
   ]
  },
  {
   "cell_type": "markdown",
   "id": "a22bc547",
   "metadata": {},
   "source": [
    "Question 15- Write a Python program to search some literals strings in a string. Go to the editor\n",
    "Sample text : 'The quick brown fox jumps over the lazy dog.'\n",
    "Searched words : 'fox', 'dog', 'horse'\n"
   ]
  },
  {
   "cell_type": "code",
   "execution_count": 28,
   "id": "016a3f74",
   "metadata": {},
   "outputs": [
    {
     "name": "stdout",
     "output_type": "stream",
     "text": [
      "Found 'fox'\n",
      "Found 'dog'\n",
      "Not found 'horse'\n"
     ]
    }
   ],
   "source": [
    "import re\n",
    "\n",
    "def search_string(text, words):\n",
    "    for word in words:\n",
    "        if re.search(word, text):\n",
    "            print(f\"Found '{word}'\")\n",
    "        else:\n",
    "            print(f\"Not found '{word}'\")\n",
    "\n",
    "text = 'The quick brown fox jumps over the lazy dog.'\n",
    "words = ['fox', 'dog', 'horse']\n",
    "search_string(text, words)\n"
   ]
  },
  {
   "cell_type": "markdown",
   "id": "3f4e824c",
   "metadata": {},
   "source": [
    "Question 16- Write a Python program to search a literals string in a string and also find the location within the original string where the pattern occurs\n",
    "Sample text : 'The quick brown fox jumps over the lazy dog.'\n",
    "Searched words : 'fox'\n"
   ]
  },
  {
   "cell_type": "code",
   "execution_count": 29,
   "id": "b7a335b0",
   "metadata": {},
   "outputs": [
    {
     "name": "stdout",
     "output_type": "stream",
     "text": [
      "Found \"fox\" in \"The quick brown fox jumps over the lazy dog.\" from 16 to 19 \n"
     ]
    }
   ],
   "source": [
    "import re\n",
    "\n",
    "pattern = 'fox'\n",
    "text = 'The quick brown fox jumps over the lazy dog.'\n",
    "match = re.search(pattern, text)\n",
    "s = match.start()\n",
    "e = match.end()\n",
    "print('Found \\\"%s\\\" in \\\"%s\\\" from %d to %d ' % (match.re.pattern, match.string, s, e))\n"
   ]
  },
  {
   "cell_type": "markdown",
   "id": "b13db4f4",
   "metadata": {},
   "source": [
    "Question 17- Write a Python program to find the substrings within a string.\n",
    "Sample text : 'Python exercises, PHP exercises, C# exercises'\n",
    "Pattern : 'exercises'.\n"
   ]
  },
  {
   "cell_type": "code",
   "execution_count": 32,
   "id": "3814d327",
   "metadata": {},
   "outputs": [
    {
     "name": "stdout",
     "output_type": "stream",
     "text": [
      "Found exercises at index 7\n",
      "Found exercises at index 22\n",
      "Found exercises at index 36\n"
     ]
    }
   ],
   "source": [
    "def find_substrings(string, pattern):\n",
    "    start = 0\n",
    "    while True:\n",
    "        start = string.find(pattern, start)\n",
    "        if start == -1:\n",
    "            return\n",
    "        yield start\n",
    "        start += len(pattern)\n",
    "\n",
    "string = 'Python exercises, PHP exercises, C# exercises'\n",
    "pattern = 'exercises'\n",
    "\n",
    "for index in find_substrings(string, pattern):\n",
    "    print(f'Found exercises at index {index}')\n"
   ]
  },
  {
   "cell_type": "markdown",
   "id": "4e96a406",
   "metadata": {},
   "source": [
    "Question 18- Write a Python program to find the occurrence and position of the substrings within a string."
   ]
  },
  {
   "cell_type": "code",
   "execution_count": 33,
   "id": "adb25abf",
   "metadata": {},
   "outputs": [
    {
     "name": "stdout",
     "output_type": "stream",
     "text": [
      "Found \"exercises\" at 7:16\n",
      "Found \"exercises\" at 22:31\n",
      "Found \"exercises\" at 36:45\n"
     ]
    }
   ],
   "source": [
    "import re\n",
    "\n",
    "text = 'Python exercises, PHP exercises, C# exercises'\n",
    "pattern = 'exercises'\n",
    "\n",
    "for match in re.finditer(pattern, text):\n",
    "    s = match.start()\n",
    "    e = match.end()\n",
    "    print('Found \\\"%s\\\" at %d:%d' % (text[s:e], s, e))\n"
   ]
  },
  {
   "cell_type": "markdown",
   "id": "f714372e",
   "metadata": {},
   "source": [
    "Question 19- Write a Python program to convert a date of yyyy-mm-dd format to dd-mm-yyyy format."
   ]
  },
  {
   "cell_type": "code",
   "execution_count": 38,
   "id": "15e41d41",
   "metadata": {},
   "outputs": [
    {
     "name": "stdout",
     "output_type": "stream",
     "text": [
      "Original date in YYY-MM-DD Format:  2023-07-10\n",
      "New date in DD-MM-YYYY Format:  10-07-2023\n"
     ]
    }
   ],
   "source": [
    "import re\n",
    "def change_date_format(dt):\n",
    "        return re.sub(r'(\\d{4})-(\\d{1,2})-(\\d{1,2})', '\\\\3-\\\\2-\\\\1', dt)\n",
    "dt1 = \"2023-07-10\"\n",
    "print(\"Original date in YYY-MM-DD Format: \",dt1)\n",
    "print(\"New date in DD-MM-YYYY Format: \",change_date_format(dt1))\n"
   ]
  },
  {
   "cell_type": "code",
   "execution_count": 39,
   "id": "fcef9bd9",
   "metadata": {},
   "outputs": [
    {
     "name": "stdout",
     "output_type": "stream",
     "text": [
      "10-07-2022\n"
     ]
    }
   ],
   "source": [
    "from datetime import datetime\n",
    "\n",
    "date_string = \"2022-07-10\"\n",
    "date_object = datetime.strptime(date_string, \"%Y-%m-%d\")\n",
    "new_date_string = date_object.strftime(\"%d-%m-%Y\")\n",
    "\n",
    "print(new_date_string)\n"
   ]
  },
  {
   "cell_type": "markdown",
   "id": "fef89a32",
   "metadata": {},
   "source": [
    "Question 20- Write a Python program to find all words starting with 'a' or 'e' in a given string."
   ]
  },
  {
   "cell_type": "code",
   "execution_count": 40,
   "id": "9d418703",
   "metadata": {},
   "outputs": [
    {
     "name": "stdout",
     "output_type": "stream",
     "text": [
      "['apple', 'eggplant']\n"
     ]
    }
   ],
   "source": [
    "import re\n",
    "\n",
    "text = \"apple banana cherry date eggplant fig grapefruit\"\n",
    "pattern = r\"\\b([aeAE]\\w+)\\b\"\n",
    "\n",
    "matches = re.findall(pattern, text)\n",
    "\n",
    "print(matches)\n"
   ]
  },
  {
   "cell_type": "markdown",
   "id": "ceea39c0",
   "metadata": {},
   "source": [
    "Question 21- Write a Python program to separate and print the numbers and their position of a given string."
   ]
  },
  {
   "cell_type": "code",
   "execution_count": 41,
   "id": "337822bc",
   "metadata": {},
   "outputs": [
    {
     "name": "stdout",
     "output_type": "stream",
     "text": [
      "Number: 123 Position: 35\n"
     ]
    }
   ],
   "source": [
    "import re\n",
    "\n",
    "text = \"The quick brown fox jumps over the 123 lazy dog.\"\n",
    "pattern = r\"\\d+\"\n",
    "\n",
    "for match in re.finditer(pattern, text):\n",
    "    print(\"Number:\", match.group(), \"Position:\", match.start())\n"
   ]
  },
  {
   "cell_type": "markdown",
   "id": "e15691c9",
   "metadata": {},
   "source": [
    "Question 22- Write a regular expression in python program to extract maximum numeric value from a string"
   ]
  },
  {
   "cell_type": "code",
   "execution_count": 42,
   "id": "44bc2cd6",
   "metadata": {},
   "outputs": [
    {
     "name": "stdout",
     "output_type": "stream",
     "text": [
      "Maximum numeric value: 0.5678\n"
     ]
    }
   ],
   "source": [
    "import re\n",
    "\n",
    "text = \"The maximum numeric value is 1234.5678\"\n",
    "pattern = r\"\\d+(\\.\\d+)?\"\n",
    "\n",
    "matches = re.findall(pattern, text)\n",
    "\n",
    "max_value = float(\"-inf\")\n",
    "for match in matches:\n",
    "    value = float(match)\n",
    "    if value > max_value:\n",
    "        max_value = value\n",
    "\n",
    "print(\"Maximum numeric value:\", max_value)\n"
   ]
  },
  {
   "cell_type": "code",
   "execution_count": 47,
   "id": "9304b1c4",
   "metadata": {},
   "outputs": [
    {
     "name": "stdout",
     "output_type": "stream",
     "text": [
      "Maximum floating-point value: 1234.5678\n"
     ]
    }
   ],
   "source": [
    "import re\n",
    "\n",
    "text = \"The maximum numeric value is 1234.5678\"\n",
    "pattern = r\"\\d+\\.\\d+\"\n",
    "\n",
    "matches = re.findall(pattern, text)\n",
    "\n",
    "max_value = float(\"-inf\")\n",
    "for match in matches:\n",
    "    value = float(match)\n",
    "    if value > max_value:\n",
    "        max_value = value\n",
    "\n",
    "print(\"Maximum floating-point value:\", max_value)\n"
   ]
  },
  {
   "cell_type": "markdown",
   "id": "6ec26fa5",
   "metadata": {},
   "source": [
    "Question 23- Write a Regex in Python to put spaces between words starting with capital letters"
   ]
  },
  {
   "cell_type": "code",
   "execution_count": 48,
   "id": "5ad94c8e",
   "metadata": {},
   "outputs": [
    {
     "name": "stdout",
     "output_type": "stream",
     "text": [
      "This Is A String With Words Starting With Capital Letters\n"
     ]
    }
   ],
   "source": [
    "import re\n",
    "\n",
    "text = \"ThisIsAStringWithWordsStartingWithCapitalLetters\"\n",
    "pattern = r\"(?<!^)(?=[A-Z])\"\n",
    "\n",
    "new_text = re.sub(pattern, \" \", text)\n",
    "\n",
    "print(new_text)\n"
   ]
  },
  {
   "cell_type": "markdown",
   "id": "bd34edcb",
   "metadata": {},
   "source": [
    "Question 24- Python regex to find sequences of one upper case letter followed by lower case letters"
   ]
  },
  {
   "cell_type": "code",
   "execution_count": 49,
   "id": "eb91b5d9",
   "metadata": {},
   "outputs": [
    {
     "name": "stdout",
     "output_type": "stream",
     "text": [
      "['This', 'String', 'Sequences', 'One', 'Upper', 'Case', 'Letter', 'Followed', 'Lower', 'Case', 'Letters']\n"
     ]
    }
   ],
   "source": [
    "import re\n",
    "\n",
    "text = \"This is a String with Sequences of One Upper Case Letter Followed by Lower Case Letters\"\n",
    "pattern = r\"[A-Z][a-z]+\"\n",
    "\n",
    "matches = re.findall(pattern, text)\n",
    "\n",
    "print(matches)\n"
   ]
  },
  {
   "cell_type": "markdown",
   "id": "4c39782e",
   "metadata": {},
   "source": [
    "Question 25- Write a Python program to remove duplicate words from Sentence using Regular Expression"
   ]
  },
  {
   "cell_type": "code",
   "execution_count": 50,
   "id": "99d32ee9",
   "metadata": {},
   "outputs": [
    {
     "name": "stdout",
     "output_type": "stream",
     "text": [
      "This is a sentence with   and duplicate words\n"
     ]
    }
   ],
   "source": [
    "import re\n",
    "\n",
    "text = \"This is a sentence with duplicate words and duplicate words\"\n",
    "pattern = r\"\\b(\\w+)\\b(?=.*\\b\\1\\b)\"\n",
    "\n",
    "new_text = re.sub(pattern, \"\", text)\n",
    "\n",
    "print(new_text)\n"
   ]
  },
  {
   "cell_type": "markdown",
   "id": "707cbced",
   "metadata": {},
   "source": [
    "Question 26-  Write a python program using RegEx to accept string ending with alphanumeric character."
   ]
  },
  {
   "cell_type": "code",
   "execution_count": 52,
   "id": "be14bdc8",
   "metadata": {},
   "outputs": [
    {
     "name": "stdout",
     "output_type": "stream",
     "text": [
      "The string is :\n",
      "Python@\n",
      "The string does not end with an alphanumeric character\n",
      "\n",
      "The string is :\n",
      "Python1245\n",
      "The string ends with an alphanumeric character\n"
     ]
    }
   ],
   "source": [
    "import re\n",
    "\n",
    "regex_expression = '[a-zA-z0-9]$'\n",
    "\n",
    "def check_string(my_string):\n",
    "    if(re.search(regex_expression, my_string)):\n",
    "        print(\"The string ends with an alphanumeric character\")\n",
    "    else:\n",
    "        print(\"The string does not end with an alphanumeric character\")\n",
    "\n",
    "my_string_1 = \"Python@\"\n",
    "print(\"The string is :\")\n",
    "print(my_string_1)\n",
    "check_string(my_string_1)\n",
    "\n",
    "my_string_2 = \"Python1245\"\n",
    "print(\"\\nThe string is :\")\n",
    "print(my_string_2)\n",
    "check_string(my_string_2)\n"
   ]
  },
  {
   "cell_type": "markdown",
   "id": "349a3757",
   "metadata": {},
   "source": [
    "Question 27-Write a python program using RegEx to extract the hashtags.\n",
    "Sample Text: text = \"\"\"RT @kapil_kausik: #Doltiwal I mean #xyzabc is \"hurt\" by #Demonetization as the same has rendered USELESS <ed><U+00A0><U+00BD><ed><U+00B1><U+0089> \"acquired funds\" No wo\"\"\"\n",
    "Output: ['#Doltiwal', '#xyzabc', '#Demonetization']\n"
   ]
  },
  {
   "cell_type": "code",
   "execution_count": 56,
   "id": "ce5b87ac",
   "metadata": {},
   "outputs": [
    {
     "name": "stdout",
     "output_type": "stream",
     "text": [
      "RT @kapil_kausik: #Doltiwal I mean #xyzabc is hurt by #Demonetization as the same has rendered USELESS <U+00A0><U+00BD><U+00B1><U+0089> acquired funds No wo\n",
      "['#Doltiwal', '#xyzabc', '#Demonetization']\n"
     ]
    }
   ],
   "source": [
    "# -*- coding: utf-8 -*-\n",
    "import string \n",
    "tweets = []\n",
    "\n",
    "a = \"RT @kapil_kausik: #Doltiwal I mean #xyzabc is hurt by #Demonetization as the same has rendered USELESS <U+00A0><U+00BD><U+00B1><U+0089> acquired funds No wo\"\n",
    "\n",
    "# filter for printable characters then\n",
    "a = ''.join(filter(lambda x: x in string.printable, a))\n",
    "\n",
    "print(a)\n",
    "\n",
    "for tweet in a.split(' '):\n",
    "    if tweet.startswith('#'):\n",
    "        tweets.append(tweet.strip(','))\n",
    "\n",
    "print(tweets)\n"
   ]
  },
  {
   "cell_type": "markdown",
   "id": "478776c7",
   "metadata": {},
   "source": [
    "Question 28- Write a python program using RegEx to remove <U+..> like symbols\n",
    "Check the below sample text, there are strange symbols something of the sort <U+..> all over the place. You need to come up with a general Regex expression that will cover all such symbols.\n",
    "Sample Text: \"@Jags123456 Bharat band on 28??<ed><U+00A0><U+00BD><ed><U+00B8><U+0082>Those who  are protesting #demonetization  are all different party leaders\"\n",
    "Output: @Jags123456 Bharat band on 28??<ed><ed>Those who  are protesting #demonetization  are all different party leaders\n"
   ]
  },
  {
   "cell_type": "code",
   "execution_count": 57,
   "id": "57d7d153",
   "metadata": {},
   "outputs": [
    {
     "name": "stdout",
     "output_type": "stream",
     "text": [
      "@Jags123456 Bharat band on 28??Those who are protesting #demonetization are all different party leaders\n"
     ]
    }
   ],
   "source": [
    "import re\n",
    "\n",
    "def remove_symbols(text):\n",
    "    return re.sub(r'<U\\+\\w{4}>', '', text)\n",
    "\n",
    "sample_text = \"@Jags123456 Bharat band on 28??<U+00A0><U+00BD><U+00B8><U+0082>Those who are protesting #demonetization are all different party leaders\"\n",
    "output = remove_symbols(sample_text)\n",
    "print(output)\n"
   ]
  },
  {
   "cell_type": "markdown",
   "id": "a52eaeac",
   "metadata": {},
   "source": [
    "Question 29- Write a python program to extract dates from the text stored in the text file.\n",
    "Sample Text: Ron was born on 12-09-1992 and he was admitted to school 15-12-1999.\n",
    "Store this sample text in the file and then extract dates.\n"
   ]
  },
  {
   "cell_type": "code",
   "execution_count": 60,
   "id": "83226272",
   "metadata": {},
   "outputs": [
    {
     "name": "stdout",
     "output_type": "stream",
     "text": [
      "C:\\Users\\lenovo\n"
     ]
    }
   ],
   "source": [
    "import os\n",
    "\n",
    "print(os.getcwd())\n"
   ]
  },
  {
   "cell_type": "code",
   "execution_count": 61,
   "id": "08fb8e1d",
   "metadata": {},
   "outputs": [],
   "source": [
    "with open('sample.txt', 'w') as f:\n",
    "    f.write('Ron was born on 12-09-1992 and he was admitted to school 15-12-1999.')\n"
   ]
  },
  {
   "cell_type": "code",
   "execution_count": 62,
   "id": "7c8eed38",
   "metadata": {},
   "outputs": [
    {
     "name": "stdout",
     "output_type": "stream",
     "text": [
      "['12-09-1992', '15-12-1999']\n"
     ]
    }
   ],
   "source": [
    "import re\n",
    "\n",
    "with open('sample.txt', 'r') as f:\n",
    "    text = f.read()\n",
    "    dates = re.findall(r'\\d{2}-\\d{2}-\\d{4}', text)\n",
    "    print(dates)"
   ]
  },
  {
   "cell_type": "markdown",
   "id": "a5c4d8b7",
   "metadata": {},
   "source": [
    "Question 30- Write a Python program to replace all occurrences of a space, comma, or dot with a colon.\n",
    "Sample Text- 'Python Exercises, PHP exercises.'\n",
    "Output: Python:Exercises::PHP:exercises:\n"
   ]
  },
  {
   "cell_type": "code",
   "execution_count": 63,
   "id": "ead2e293",
   "metadata": {},
   "outputs": [
    {
     "name": "stdout",
     "output_type": "stream",
     "text": [
      "Python:Exercises::PHP:exercises:\n"
     ]
    }
   ],
   "source": [
    "text = 'Python Exercises, PHP exercises.'\n",
    "text = text.replace(' ', ':').replace(',', ':').replace('.', ':')\n",
    "print(text)\n"
   ]
  },
  {
   "cell_type": "code",
   "execution_count": null,
   "id": "bb6abe99",
   "metadata": {},
   "outputs": [],
   "source": []
  }
 ],
 "metadata": {
  "kernelspec": {
   "display_name": "Python 3 (ipykernel)",
   "language": "python",
   "name": "python3"
  },
  "language_info": {
   "codemirror_mode": {
    "name": "ipython",
    "version": 3
   },
   "file_extension": ".py",
   "mimetype": "text/x-python",
   "name": "python",
   "nbconvert_exporter": "python",
   "pygments_lexer": "ipython3",
   "version": "3.9.13"
  }
 },
 "nbformat": 4,
 "nbformat_minor": 5
}
